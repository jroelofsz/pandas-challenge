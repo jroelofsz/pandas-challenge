{
 "cells": [
  {
   "cell_type": "code",
   "execution_count": null,
   "metadata": {},
   "outputs": [],
   "source": [
    "#import libraries\n",
    "import pandas as pd\n",
    "from pathlib import Path\n",
    "\n",
    "#csv paths\n",
    "student_csv = Path('../Resources/students_complete.csv')\n",
    "schools_csv = Path('../Resources/schools_complete.csv')\n",
    "\n",
    "#initialize dataframes\n",
    "student_df = pd.read_csv(student_csv)\n",
    "school_df = pd.read_csv(schools_csv)\n",
    "\n",
    "#merge dataframes\n",
    "complete_df = pd.merge(student_df, school_df, how='left', on = ['school_name', 'school_name'])"
   ]
  },
  {
   "cell_type": "markdown",
   "metadata": {},
   "source": [
    "<h1> District Summary </h1>"
   ]
  },
  {
   "cell_type": "markdown",
   "metadata": {},
   "source": [
    "<h4>Snapshot Variables</h4>"
   ]
  },
  {
   "cell_type": "code",
   "execution_count": null,
   "metadata": {},
   "outputs": [],
   "source": [
    "#total number of unique schools\n",
    "total_schools = len(complete_df['school_name'].unique())\n",
    "\n",
    "#total students\n",
    "total_students = complete_df['Student ID'].count()\n",
    "\n",
    "#total budget\n",
    "total_budget = school_df['budget'].sum()\n",
    "\n",
    "#average math score\n",
    "avg_math_score = complete_df['math_score'].mean()\n",
    "\n",
    "#average reading score\n",
    "avg_read_score = complete_df['reading_score'].mean()\n",
    "\n",
    "#students passing math\n",
    "numb_pass_math = complete_df[complete_df['math_score'] >= 70].count()['student_name']\n",
    "\n",
    "percent_passing_math = numb_pass_math / float(total_students) * 100\n",
    "\n",
    "\n",
    "#passing reading\n",
    "num_pass_read = complete_df[complete_df['reading_score'] >= 70].count()['student_name']\n",
    "\n",
    "percent_passing_read = num_pass_read / float(total_students) * 100\n",
    "\n",
    "#passing reading and math\n",
    "num_passing_both = complete_df[(complete_df['math_score'] >= 70) & (complete_df['reading_score'] >= 70)].count()['student_name']\n",
    "\n",
    "percent_passing_both = num_passing_both / float(total_students) * 100\n"
   ]
  },
  {
   "cell_type": "markdown",
   "metadata": {},
   "source": [
    "<h4>Snapshot</h4>"
   ]
  },
  {
   "cell_type": "code",
   "execution_count": null,
   "metadata": {},
   "outputs": [],
   "source": [
    "#setup dictionary with values calculated above\n",
    "\n",
    "\n",
    "district_summary = {'Total # of Unique Schools':total_schools,\n",
    "                    'Total Students':total_students,\n",
    "                    'Total Budget': total_budget,\n",
    "                    'Average Math Score':avg_math_score,\n",
    "                    'Average Reading Score' : avg_read_score,\n",
    "                    '% Passing Math':percent_passing_math,\n",
    "                    '% Passing Reading':percent_passing_read,\n",
    "                    '% Overall Passing':percent_passing_both\n",
    "                    }\n",
    "\n",
    "\n",
    "district_summary_df = pd.DataFrame(district_summary, index=[0])\n",
    "\n",
    "district_summary_df[\"Total Students\"] = district_summary_df[\"Total Students\"].map(\"{:,}\".format)\n",
    "district_summary_df[\"Total Budget\"] = district_summary_df[\"Total Budget\"].map(\"${:,.2f}\".format)\n",
    "\n",
    "district_summary_df.head()"
   ]
  },
  {
   "cell_type": "markdown",
   "metadata": {},
   "source": [
    "<h1>School Summary</h1>"
   ]
  },
  {
   "cell_type": "code",
   "execution_count": null,
   "metadata": {},
   "outputs": [],
   "source": [
    "#types of schools\n",
    "school_types = school_df.set_index(['school_name'])['type']\n",
    "\n",
    "school_types"
   ]
  },
  {
   "cell_type": "code",
   "execution_count": null,
   "metadata": {},
   "outputs": [],
   "source": [
    "school_df.head()"
   ]
  },
  {
   "cell_type": "code",
   "execution_count": null,
   "metadata": {},
   "outputs": [],
   "source": [
    "#total stueent count per school\n",
    "student_counts_per = school_df.set_index(['school_name'])['size']\n",
    "\n",
    "student_counts_per"
   ]
  },
  {
   "cell_type": "code",
   "execution_count": null,
   "metadata": {},
   "outputs": [],
   "source": [
    "#per school budget and per capita\n",
    "school_budgets = school_df.set_index(['school_name'])['budget']\n",
    "\n",
    "per_cap_budget = school_df.set_index(['school_name'])['budget'] / school_df.set_index(['school_name'])['size']\n",
    "\n",
    "print(school_budgets.head())\n",
    "\n",
    "print(per_cap_budget.head())"
   ]
  },
  {
   "cell_type": "code",
   "execution_count": null,
   "metadata": {},
   "outputs": [],
   "source": [
    "#assign relevant columns to a new dataframe\n",
    "school_test_scores_df = complete_df[['school_name', 'reading_score', 'math_score']]\n",
    "\n",
    "\n"
   ]
  },
  {
   "cell_type": "code",
   "execution_count": null,
   "metadata": {},
   "outputs": [],
   "source": [
    "# Calculate the average test score per school\n",
    "school_avg_group = school_test_scores_df.groupby('school_name')\n",
    "\n",
    "school_avg_df = school_avg_group.mean()\n",
    "\n",
    "school_avg_df\n",
    "\n"
   ]
  },
  {
   "cell_type": "code",
   "execution_count": null,
   "metadata": {},
   "outputs": [],
   "source": []
  },
  {
   "cell_type": "code",
   "execution_count": null,
   "metadata": {},
   "outputs": [],
   "source": []
  },
  {
   "cell_type": "code",
   "execution_count": null,
   "metadata": {},
   "outputs": [],
   "source": []
  }
 ],
 "metadata": {
  "kernelspec": {
   "display_name": "dev",
   "language": "python",
   "name": "python3"
  },
  "language_info": {
   "codemirror_mode": {
    "name": "ipython",
    "version": 3
   },
   "file_extension": ".py",
   "mimetype": "text/x-python",
   "name": "python",
   "nbconvert_exporter": "python",
   "pygments_lexer": "ipython3",
   "version": "3.10.14"
  }
 },
 "nbformat": 4,
 "nbformat_minor": 2
}
